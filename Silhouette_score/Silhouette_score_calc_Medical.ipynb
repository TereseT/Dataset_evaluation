{
 "cells": [
  {
   "cell_type": "markdown",
   "metadata": {},
   "source": [
    "# Dataset evaluation based on Silhouette score\n",
    "\n",
    "This script uses extracted image features to calculate a dataset based score of dataset classification difficulty using the Silhouette score. This script was used for dataset difficulty estimation of the conference paper by Thornblad et al. [1]. \n",
    "\n",
    "The Silhouette score (SIL) is a metric which is based on both the interclass and intraclass variation within a dataset. This score uses Euclidean distances between image features of each sample to another. The average feature distance between images of the same class ($a_i$) and of different classes ($b_i$) is calculated for each sample. The Silhouette score, per sample ($s_i$), is then determined using the following equation:\n",
    "\n",
    "\n",
    "\\begin{equation}\n",
    "    s_i = \n",
    "    \\begin{cases}\n",
    "      1 - a_i /b_i & \\text{if } a_i < b_i  \\\\\n",
    "      0 & \\text{if } a_i = b_i \\\\\n",
    "      b_i /a_i - 1  & \\text{if } a_i > b_i\n",
    "    \\end{cases} \n",
    "\\end{equation}\n",
    "\n",
    "The Silhouette score for the full dataset (SIL) is defined as the average of the individual $s_i$ scores, of all samples. \n",
    "\n",
    "\n",
    "\n",
    "[1] Estimating the difficulty of medical classification tasks using 3D image datasets, Thornblad et al., 2025\n"
   ]
  },
  {
   "cell_type": "code",
   "execution_count": null,
   "metadata": {},
   "outputs": [],
   "source": [
    "import numpy as np\n",
    "import os\n",
    "from scipy.stats import linregress\n",
    "import csv\n",
    "import matplotlib.pyplot as plt\n",
    "import scipy.stats as stats\n",
    "import utils"
   ]
  },
  {
   "cell_type": "code",
   "execution_count": null,
   "metadata": {},
   "outputs": [],
   "source": [
    "# Paths for project\n",
    "# Ovarian paths\n",
    "data_p = './Dataset_ovarian'\n",
    "preprocessed_p = './Dataset_ovarian/Preprocessed_data_RADIOMICS'\n",
    "\n",
    "# Pancreas paths\n",
    "data_p = './Pancreas_cropped'\n",
    "preprocessed_p = './Pancreas_cropped/Preprocessed_data_RADIOMICS'\n",
    "\n",
    "\n",
    "# LIDC paths \n",
    "data_p = './NIFTI-LIDC'\n",
    "preprocessed_p = './NIFTI-LIDC/Preprocessed_data_RADIOMICS'\n",
    "\n",
    "# Liver dataset paths\n",
    "data_p = './Liver_LITS17'\n",
    "preprocessed_p = './Liver_LITS17/Preprocessed_data_RADIOMICS'\n",
    "\n",
    "# FractureMNIST3D\n",
    "data_p = './MedMNIST/FractureMNIST3D'\n",
    "preprocessed_p = './MedMNIST/FractureMNIST3D/Preprocessed_data_RADIOMICS'\n"
   ]
  },
  {
   "cell_type": "markdown",
   "metadata": {},
   "source": [
    "## Plot features"
   ]
  },
  {
   "cell_type": "code",
   "execution_count": null,
   "metadata": {},
   "outputs": [
    {
     "data": {
      "image/png": "[encoded data removed]",
      "text/plain": [
       "<Figure size 720x180 with 2 Axes>"
      ]
     },
     "metadata": {
      "needs_background": "light"
     },
     "output_type": "display_data"
    }
   ],
   "source": [
    "feature_json_path = preprocessed_p\n",
    "size_subset = 300\n",
    "\n",
    "feature_data_1, feature_data_sub = utils.load_features(feature_json_path, size_subset)\n",
    "\n",
    "utils.plot_features(feature_data_1, feature_data_sub)\n"
   ]
  },
  {
   "cell_type": "markdown",
   "metadata": {},
   "source": [
    "## Sillhouette score calc\n",
    "\n",
    "Gives a score based on average euclidian distances within class and between classes\n",
    "\n",
    "Score ranges between [-1, 1] where higher number is better separation\n",
    "\n",
    "Duration 2.4s for dataset of 380 CT samples (with pre extracted features)\n",
    "\n",
    "\n",
    "### Calculate SIL score for one datset"
   ]
  },
  {
   "cell_type": "code",
   "execution_count": null,
   "metadata": {},
   "outputs": [],
   "source": [
    "## Calculate Silhouette score for a dataset\n",
    "\n",
    "feature_json_path = preprocessed_p \n",
    "\n",
    "full_dataset_features, class_1_features, IDs_class1, class_0_features, IDs_class0 = utils.load_features_full_dataset_with_IDs(feature_json_path)\n",
    "\n",
    "\n",
    "sil_vals = utils.SIL_score_calc(class_0_features, class_1_features, IDs_class0, IDs_class1)\n",
    "print(np.average(np.array(sil_vals)))     # Score ranges between [-1, 1] where higher number is better separation"
   ]
  },
  {
   "cell_type": "markdown",
   "metadata": {},
   "source": [
    "### Sillhouette score bootstrapping calculation\n"
   ]
  },
  {
   "cell_type": "code",
   "execution_count": null,
   "metadata": {},
   "outputs": [],
   "source": [
    "feature_json_path = preprocessed_p\n",
    "\n",
    "full_dataset_features, class_1_features, IDs_class1, class_0_features, IDs_class0 = utils.load_features_full_dataset_with_IDs(feature_json_path)\n",
    "\n",
    "val_array = utils.bootstrap_with_blocks(class_0_features, class_1_features, IDs_class0, IDs_class1, utils.SIL_score_calc, n_sessions=1000, b_0=0.6, b_1=0.6)"
   ]
  },
  {
   "cell_type": "markdown",
   "metadata": {},
   "source": [
    "### Silhouette score calculation with bootstrapping over multiple datasets"
   ]
  },
  {
   "cell_type": "code",
   "execution_count": null,
   "metadata": {},
   "outputs": [],
   "source": [
    "### Script for radiomic encoded features\n",
    "# Paths for project\n",
    "# Ovarian paths\n",
    "ovarian_preprocessed_p = './Dataset_ovarian/Preprocessed_data_RADIOMICS'\n",
    "\n",
    "# Pancreas paths\n",
    "pancreas_preprocessed_p = './Pancreas_cropped/Preprocessed_data_RADIOMICS'\n",
    "\n",
    "\n",
    "# LIDC paths Eloy processed\n",
    "LIDC_preprocessed_p = './NIFTI-LIDC/Preprocessed_data_RADIOMICS'\n",
    "\n",
    "# FractionMNIST paths\n",
    "MNIST_preprocessed_p = './MedMNIST/FractureMNIST3D/Preprocessed_data_RADIOMICS'\n",
    "\n",
    "Liver_preprocessed_p = './Liver_LITS17/Preprocessed_data_RADIOMICS'\n",
    "\n",
    "\n",
    "\n",
    "preprocessing_paths = [ovarian_preprocessed_p, pancreas_preprocessed_p, MNIST_preprocessed_p, LIDC_preprocessed_p, Liver_preprocessed_p]\n",
    "dataset_names = ['Ovarian', 'Pancreas', 'MNIST', 'LIDC', 'Liver']\n",
    "\n",
    "# preprocessing_paths = [ovarian_preprocessed_p, pancreas_preprocessed_p, MNIST_preprocessed_p, LIDC_preprocessed_p]\n",
    "# dataset_names = ['Ovarian', 'Pancreas', 'MNIST', 'LIDC']\n",
    "val_lists = []\n",
    "for dataset_i in range(2, len(dataset_names)):\n",
    "    data_name = dataset_names[dataset_i]\n",
    "    print(f'Now processing dataset {dataset_i} ({data_name})...')\n",
    "    preprocessed_path_i = preprocessing_paths[dataset_i]\n",
    "    feature_json_path = preprocessed_path_i\n",
    "    full_dataset_features, class_1_features, IDs_class1, class_0_features, IDs_class0 = utils.load_features_full_dataset_with_IDs(feature_json_path)\n",
    "    val_array = utils.bootstrap_with_blocks(class_0_features, class_1_features, IDs_class0, IDs_class1, utils.SIL_score_calc, n_sessions=1000, b_0=0.6, b_1=0.6)\n",
    "    \n",
    "    val_lists.append(np.array(val_array))\n",
    "\n",
    "    path = './Silhouette_score/Bootstrapping_scores'\n",
    "    file_name = f'SIL_scores_{data_name}.csv'\n",
    "    csv_save_path = os.path.join(path, file_name)\n",
    "\n",
    "    with open(csv_save_path, 'w', newline='') as myfile:\n",
    "        wr = csv.writer(myfile, quoting=csv.QUOTE_ALL)\n",
    "\n",
    "        wr.writerow(val_array)"
   ]
  },
  {
   "cell_type": "code",
   "execution_count": null,
   "metadata": {},
   "outputs": [],
   "source": [
    "### Script for MedicalNet encoded features\n",
    "# Paths for project\n",
    "# Ovarian paths\n",
    "base_p = './Fréchet_inception_distance/image_features_MedicalNet'\n",
    "\n",
    "# Ovarian paths\n",
    "ovarian_preprocessed_p = './Dataset_ovarian/Preprocessed_data_RADIOMICS'\n",
    "\n",
    "# Pancreas paths\n",
    "pancreas_preprocessed_p = './Pancreas_cropped/Preprocessed_data_RADIOMICS'\n",
    "\n",
    "\n",
    "# LIDC paths Eloy processed\n",
    "LIDC_preprocessed_p = './NIFTI-LIDC/Preprocessed_data_RADIOMICS'\n",
    "\n",
    "# FractionMNIST paths\n",
    "MNIST_preprocessed_p = './MedMNIST/FractureMNIST3D/Preprocessed_data_RADIOMICS'\n",
    "\n",
    "Liver_preprocessed_p = './Liver_LITS17/Preprocessed_data_RADIOMICS'\n",
    "\n",
    "\n",
    "\n",
    "preprocessing_paths = [ovarian_preprocessed_p, pancreas_preprocessed_p, LIDC_preprocessed_p, MNIST_preprocessed_p, Liver_preprocessed_p]\n",
    "dataset_names_json = ['Ovarian', 'Pancreas', 'LIDC', 'MNIST', 'liver']\n",
    "\n",
    "\n",
    "dataset_names = ['Ovarian', 'pancreas', 'lung', 'MNIST', 'liver']\n",
    "\n",
    "# preprocessing_paths = [ovarian_preprocessed_p, pancreas_preprocessed_p, MNIST_preprocessed_p, LIDC_preprocessed_p]\n",
    "# dataset_names = ['Ovarian', 'Pancreas', 'MNIST', 'LIDC']\n",
    "val_lists = []\n",
    "for dataset_i in range(2, len(dataset_names)):\n",
    "    data_name = dataset_names[dataset_i]\n",
    "    print(f'Now processing dataset {dataset_i} ({data_name})...')\n",
    "\n",
    "    class_0_name = f'{data_name}_image_features_0.csv'\n",
    "    class_1_name = f'{data_name}_image_features_1.csv'\n",
    "\n",
    "    csv_path_0 = os.path.join(base_p, class_0_name)\n",
    "    csv_path_1 = os.path.join(base_p, class_1_name)\n",
    "\n",
    "    preprocessed_path_i = preprocessing_paths[dataset_i]\n",
    "    feature_json_path = preprocessed_path_i\n",
    "\n",
    "\n",
    "    class_0_features, class_1_features, IDs_class0, IDs_class1 = utils.read_MedicalNet_features(feature_json_path, csv_path_0, csv_path_1)\n",
    "    # print('class len', len(class_1_features), len(IDs_class0))\n",
    "    val_array = utils.bootstrap_with_blocks(class_0_features, class_1_features, IDs_class0, IDs_class1, utils.SIL_score_calc, n_sessions=1000, b_0=0.6, b_1=0.6)\n",
    "    val_lists.append(np.array(val_array))\n",
    "\n",
    "    path = './Silhouette_score/Bootstrapping_scores/Medical_Net_bootstrap_scores'\n",
    "    file_name = f'FID_scores_{data_name}.csv'\n",
    "    csv_save_path = os.path.join(path, file_name)\n",
    "    with open(csv_save_path, 'w', newline='') as myfile:\n",
    "        wr = csv.writer(myfile, quoting=csv.QUOTE_ALL)\n",
    "        wr.writerow(val_array)"
   ]
  },
  {
   "cell_type": "markdown",
   "metadata": {},
   "source": [
    "### Plot bootstrapped scores"
   ]
  },
  {
   "cell_type": "code",
   "execution_count": null,
   "metadata": {},
   "outputs": [
    {
     "name": "stdout",
     "output_type": "stream",
     "text": [
      "Now processing dataset 0 (Ovarian)...\n",
      "data and AUC shape: (1000,) 1000\n",
      "Now processing dataset 1 (Pancreas)...\n",
      "data and AUC shape: (1000,) 1000\n",
      "Now processing dataset 2 (LIDC)...\n",
      "data and AUC shape: (1000,) 1000\n",
      "Now processing dataset 3 (MNIST)...\n",
      "data and AUC shape: (1000,) 1000\n",
      "Now processing dataset 4 (Liver)...\n",
      "data and AUC shape: (1000,) 1000\n",
      "Pearson Correlation Coefficient: 0.7891\n",
      "P-value: 0.0000\n",
      "Significant correlation found!\n"
     ]
    },
    {
     "name": "stderr",
     "output_type": "stream",
     "text": [
      "/tmp/ipykernel_128148/2874607331.py:83: MatplotlibDeprecationWarning: The legendHandles attribute was deprecated in Matplotlib 3.7 and will be removed two minor releases later. Use legend_handles instead.\n",
      "  lgnd.legendHandles[0]._sizes = [40]\n",
      "/tmp/ipykernel_128148/2874607331.py:84: MatplotlibDeprecationWarning: The legendHandles attribute was deprecated in Matplotlib 3.7 and will be removed two minor releases later. Use legend_handles instead.\n",
      "  lgnd.legendHandles[1]._sizes = [40]\n",
      "/tmp/ipykernel_128148/2874607331.py:85: MatplotlibDeprecationWarning: The legendHandles attribute was deprecated in Matplotlib 3.7 and will be removed two minor releases later. Use legend_handles instead.\n",
      "  lgnd.legendHandles[2]._sizes = [40]\n",
      "/tmp/ipykernel_128148/2874607331.py:86: MatplotlibDeprecationWarning: The legendHandles attribute was deprecated in Matplotlib 3.7 and will be removed two minor releases later. Use legend_handles instead.\n",
      "  lgnd.legendHandles[3]._sizes = [40]\n",
      "/tmp/ipykernel_128148/2874607331.py:87: MatplotlibDeprecationWarning: The legendHandles attribute was deprecated in Matplotlib 3.7 and will be removed two minor releases later. Use legend_handles instead.\n",
      "  lgnd.legendHandles[4]._sizes = [40]\n"
     ]
    },
    {
     "data": {
      "image/png": "[encoded data removed]",
      "text/plain": [
       "<Figure size 432x288 with 1 Axes>"
      ]
     },
     "metadata": {
      "needs_background": "light"
     },
     "output_type": "display_data"
    }
   ],
   "source": [
    "## Script for plotting all values as dots (all same AUC per dataset)\n",
    "\n",
    "# Path to csv files of bootstrapped vals\n",
    "path = './Silhouette_score/Bootstrapping_scores'\n",
    "\n",
    "plt.rcParams.update({'font.size': 20})\n",
    "\n",
    "# # AUC scores per fold for 3DCNN model\n",
    "AUCs_ovarian = [0.6539408866995073, 0.5829228243021346, 0.6120689655172414, 0.6288998357963875, 0.35714285714285715]\n",
    "AUCs_pancreas = [0.4772727272727273, 0.5568181818181819, 0.6003787878787878, 0.6439393939393939, 0.5776515151515151]\n",
    "AUCs_MNIST = [0.6212086917157085, 0.6123811679492983, 0.5768447261204165, 0.5511543684925305, 0.6140787686736079]\n",
    "AUCs_LIDC = [0.8717008797653959, 0.8340664711632453, 0.852394916911046, 0.8318670576735092, 0.8658357771260997]\n",
    "AUCs_Liver = [0.900462962962963, 0.8472222222222222, 0.8796296296296297, 0.8472222222222223, 0.9259259259259258]\n",
    "\n",
    "# AUC scores per fold for MILCNN model\n",
    "# AUCs_ovarian = [0.8123973727422004, 0.7881773399014779, 0.784072249589491, 0.7836617405582923, 0.8160919540229885]\n",
    "# AUCs_pancreas = [0.8181818181818182, 0.7310606060606062, 0.7632575757575757, 0.7954545454545454, 0.7594696969696969]\n",
    "# AUCs_MNIST = [0.5680172023540063, 0.5866908103214123, 0.6025350837483024, 0.5875961973743775, 0.5930285196921684]\n",
    "# AUCs_LIDC = [0.936217008797654, 0.9401270772238515, 0.9420821114369502, 0.9349951124144673, 0.9301075268817204]\n",
    "# AUCs_Liver = [0.9722222222222223, 0.9768518518518519, 0.9606481481481481, 0.9560185185185186, 0.9374999999999999]\n",
    "\n",
    "\n",
    "AUCs_list = [AUCs_ovarian, AUCs_pancreas, AUCs_LIDC, AUCs_MNIST, AUCs_Liver]\n",
    "dataset_names = ['Ovarian', 'Pancreas', 'LIDC', 'MNIST', 'Liver']\n",
    "colors = ['red', 'orange', 'blue', 'green', 'purple']\n",
    "\n",
    "\n",
    "\n",
    "X_val_list = np.array([])\n",
    "y_val_list = np.array([])\n",
    "for dataset_i in range(len(dataset_names)):\n",
    "    data_name = dataset_names[dataset_i]\n",
    "    print(f'Now processing dataset {dataset_i} ({data_name})...')\n",
    "\n",
    "    file_name = f'SIL_scores_{data_name}.csv'\n",
    "    csv_save_path = os.path.join(path, file_name)\n",
    "    with open(csv_save_path, newline='') as f:\n",
    "        reader = csv.reader(f)\n",
    "        data = np.array(list(reader)[0]).astype(float)\n",
    "        # print(data)\n",
    "        # print(data.shape)\n",
    "    X_val_list = np.append(X_val_list, data)\n",
    "    AUC_dataset_i = AUCs_list[dataset_i]\n",
    "    # Use average AUC for all points\n",
    "    # AUC_average = np.average(np.array(AUC_dataset_i))\n",
    "    # y_list = np.array([AUC_average]*len(data))\n",
    "\n",
    "    # Sample AUC based on mean and std\n",
    "    AUC_average = np.average(np.array(AUC_dataset_i))\n",
    "    AUC_std = np.std(np.array(AUC_dataset_i))\n",
    "    AUC_random_values = np.random.normal(loc=AUC_average,scale=AUC_std, size=len(data))\n",
    "    y_list = AUC_random_values\n",
    "    y_val_list = np.append(y_val_list, y_list)\n",
    "    print('data and AUC shape:', data.shape, len(y_list))\n",
    "\n",
    "    plt.scatter(data, y_list, c=[colors[dataset_i]], label=data_name, s=1.0)\n",
    "    # plt.plot(data, y_list, color=colors[dataset_i], marker='.', label=data_name)\n",
    "    \n",
    "\n",
    "slope, intercept, r_value, p_value, std_err = linregress(X_val_list,y_val_list)\n",
    "\n",
    "pearson_corr, p_value = stats.pearsonr(X_val_list, y_val_list)\n",
    "\n",
    "print(f\"Pearson Correlation Coefficient: {pearson_corr:.4f}\")\n",
    "print(f\"P-value: {p_value:.4f}\")\n",
    "\n",
    "# Interpretation:\n",
    "if p_value < 0.05:\n",
    "    print(\"Significant correlation found!\")\n",
    "else:\n",
    "    print(\"No statistically significant correlation.\")\n",
    "\n",
    "\n",
    "\n",
    "x_line_plot = np.array([np.min(X_val_list), np.max(X_val_list)])\n",
    "y_list_plot = slope * x_line_plot + intercept\n",
    "\n",
    "plt.plot(x_line_plot, y_list_plot, color = 'black')\n",
    "\n",
    "plt.xlabel('SIL score')\n",
    "plt.ylabel('AUC')\n",
    "lgnd = plt.legend(loc='lower right', prop={'size': 15})\n",
    "lgnd.legendHandles[0]._sizes = [40]\n",
    "lgnd.legendHandles[1]._sizes = [40]\n",
    "lgnd.legendHandles[2]._sizes = [40]\n",
    "lgnd.legendHandles[3]._sizes = [40]\n",
    "lgnd.legendHandles[4]._sizes = [40]\n",
    "plt.show()"
   ]
  }
 ],
 "metadata": {
  "kernelspec": {
   "display_name": "env_latest",
   "language": "python",
   "name": "python3"
  },
  "language_info": {
   "codemirror_mode": {
    "name": "ipython",
    "version": 3
   },
   "file_extension": ".py",
   "mimetype": "text/x-python",
   "name": "python",
   "nbconvert_exporter": "python",
   "pygments_lexer": "ipython3",
   "version": "3.12.5"
  }
 },
 "nbformat": 4,
 "nbformat_minor": 2
}
